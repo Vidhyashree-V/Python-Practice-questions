{
 "cells": [
  {
   "cell_type": "code",
   "execution_count": 6,
   "id": "218cfe4c",
   "metadata": {},
   "outputs": [
    {
     "name": "stdout",
     "output_type": "stream",
     "text": [
      "enter num1100\n",
      "enter num2200\n",
      "num1 before sawpping 100\n",
      "num2 before swapping 200\n",
      "num1 after sawpping 200\n",
      "num2 after swapping 100\n"
     ]
    }
   ],
   "source": [
    "#SWAPPING OF TWO NUMBERS\n",
    "\n",
    "# num1= 10\n",
    "# num2= 20\n",
    "\n",
    "num1 = input('enter num1')\n",
    "num2 = input('enter num2')\n",
    "\n",
    "print('num1 before sawpping',num1)\n",
    "print('num2 before swapping',num2)\n",
    "\n",
    "#approac 1\n",
    "# temp = num1\n",
    "# num1 = num2\n",
    "# num2 = temp\n",
    "\n",
    "#approach 2\n",
    "num1,num2=num2,num1\n",
    "\n",
    "\n",
    "print('num1 after sawpping',num1)\n",
    "print('num2 after swapping',num2)\n",
    "\n"
   ]
  },
  {
   "cell_type": "code",
   "execution_count": 21,
   "id": "94087365",
   "metadata": {},
   "outputs": [
    {
     "name": "stdout",
     "output_type": "stream",
     "text": [
      "enter a number3\n",
      "number is a prime number\n"
     ]
    }
   ],
   "source": [
    "#PRIME NUMBER\n",
    "#any number that is divisible by 1 and itself is called prime number(they will have only two factors)\n",
    "\n",
    "num = int(input('enter a number'))\n",
    "count = 0\n",
    "\n",
    "if num>1:\n",
    "    for i in range(1,num+1):\n",
    "        if(num%i) == 0:\n",
    "            count=count+1      \n",
    "    if count == 2:\n",
    "        print('number is a prime number')\n",
    "    else:\n",
    "        print('number is not a prime number')\n",
    "            "
   ]
  },
  {
   "cell_type": "code",
   "execution_count": 33,
   "id": "53d2aa65",
   "metadata": {},
   "outputs": [
    {
     "name": "stdout",
     "output_type": "stream",
     "text": [
      "enter a number4\n",
      "factorial of  4 is 24\n"
     ]
    }
   ],
   "source": [
    "#find the factorial of a number\n",
    "#number shd be greator than one\n",
    "#num shd be > 0 because factorial doesnt exist for negative number\n",
    "#apprach 1\n",
    "\n",
    "# factorial = 1\n",
    "# num = 5\n",
    "\n",
    "# if (num<1):\n",
    "#     print('factorial does not exist for negative number')\n",
    "# elif (num==0):\n",
    "#     print('factorial of zero is 1')\n",
    "# else:\n",
    "#     for i in range (1,num+1):\n",
    "#         factorial = factorial*i\n",
    "#         if i == num:\n",
    "#             print('factorial of',num,'is',factorial)\n",
    "            \n",
    "#approach 2 - recursion \n",
    "def factorial(n):\n",
    "#     if (n==0 or n==1):\n",
    "#         return 1\n",
    "#     else:\n",
    "#         return n*factorial(n-1)\n",
    " return 1 if (n==0 or n==1) else n*factorial(n-1) # turnary statement\n",
    "\n",
    "num = int(input('enter a number'))\n",
    "print('factorial of ', num ,'is',factorial(num))\n",
    "        "
   ]
  },
  {
   "cell_type": "code",
   "execution_count": 37,
   "id": "81c679b4",
   "metadata": {},
   "outputs": [
    {
     "name": "stdout",
     "output_type": "stream",
     "text": [
      "0\n",
      "1\n",
      "1\n",
      "2\n",
      "3\n",
      "5\n",
      "8\n",
      "13\n",
      "21\n",
      "34\n"
     ]
    }
   ],
   "source": [
    "#fibonachi series - its is a series of number which is a sum of 2 preceeding number-0 1 2 3 5 8 13 21\n",
    "\n",
    "n1 = 0\n",
    "n2 = 1\n",
    "\n",
    "print(n1) \n",
    "print(n2)\n",
    "\n",
    "for i in range (2,10):\n",
    "    sum = n1+n2\n",
    "    print(sum)\n",
    "    n1=n2\n",
    "    n2=sum\n",
    "    "
   ]
  },
  {
   "cell_type": "code",
   "execution_count": 5,
   "id": "fcf2a2d8",
   "metadata": {},
   "outputs": [
    {
     "name": "stdout",
     "output_type": "stream",
     "text": [
      "25\n",
      "5\n"
     ]
    }
   ],
   "source": [
    "#sum of elements in  array\n",
    "\n",
    "arr = [1,2,3,4,5]\n",
    "# ans = sum(arr)\n",
    "# print(ans)\n",
    "#adding a number the sum\n",
    "ans = sum(arr,10)\n",
    "print(ans)\n",
    "#subtracting a number from sum\n",
    "ans = sum(arr,-10)\n",
    "print(ans)\n"
   ]
  },
  {
   "cell_type": "code",
   "execution_count": 25,
   "id": "96f8ad58",
   "metadata": {},
   "outputs": [
    {
     "name": "stdout",
     "output_type": "stream",
     "text": [
      "minimum number in the array is 0\n"
     ]
    }
   ],
   "source": [
    "arr = [4,1,2,3,4,5,6,7,21,36,11,52,0]\n",
    "# print('max number in the array is',max(arr))\n",
    "# print('min number in the array is',min(arr))\n",
    "# max = arr[0]\n",
    "# n=len(arr)\n",
    "\n",
    "# #finding max\n",
    "# for i in range(0,n):\n",
    "#     if max<arr[i]:\n",
    "#         max = arr[i]\n",
    "#         if i == n-1:\n",
    "#             print('max number in the array is',max)\n",
    "            \n",
    "\n",
    "    \n",
    "#finding minimum number\n",
    "min = arr[0]\n",
    "n=len(arr)\n",
    "\n",
    "#finding min\n",
    "for i in range(1,n):\n",
    "    if min>arr[i]:\n",
    "        min = arr[i]\n",
    "        if i == n-1:\n",
    "            print('minimum number in the array is',min)\n",
    "            \n",
    "            "
   ]
  },
  {
   "cell_type": "code",
   "execution_count": 20,
   "id": "d2153106",
   "metadata": {},
   "outputs": [
    {
     "name": "stdout",
     "output_type": "stream",
     "text": [
      "array after swapping [15, 23, 45, 89, 96, 14, 12]\n"
     ]
    }
   ],
   "source": [
    "# how to sawp first and last elements of list\n",
    "#approach 1\n",
    "arr = [12,23,45,89,96,14,15]\n",
    "n = len(arr)\n",
    "tem = arr[0]\n",
    "\n",
    "# for i in range (1,n):\n",
    "#     if i == n-1:\n",
    "#         arr[0] = arr[-1]\n",
    "#         arr[-1] = tem\n",
    "#         if i == n-1:\n",
    "#     print ('array after swapping',arr)\n",
    "\n",
    "\n",
    "# #approach 2\n",
    "# arr[0]=arr[n-1]\n",
    "# arr[-1]= tem\n",
    "# print ('array after swapping',arr)\n",
    "\n",
    "\n",
    "#approach 3\n",
    "# arr[0],arr[-1]=arr[-1],arr[0]\n",
    "# print ('array after swapping',arr)\n",
    "\n",
    "#approach 4 using tuple\n",
    "# get = arr[0],arr[-1]\n",
    "# arr[-1],arr[0]= get\n",
    "# print ('array after swapping',arr)  \n",
    "\n",
    "#approach 5 using * operand\n",
    "# start,*middle,end = arr\n",
    "# print(start)\n",
    "# print(middle)\n",
    "# print(end)\n",
    "# arr = end,*middle,start            \n",
    "# print ('array after swapping',arr)   \n",
    "\n",
    "#approach 6 using pop function\n",
    "first = arr.pop(0)\n",
    "last = arr.pop(-1)\n",
    "arr.insert(0,last)\n",
    "arr.append(first)\n",
    "print ('array after swapping',arr) \n",
    "        \n",
    "        "
   ]
  },
  {
   "cell_type": "code",
   "execution_count": 3,
   "id": "66d10adf",
   "metadata": {},
   "outputs": [],
   "source": [
    "#how to any two elements in the list\n",
    "\n",
    "#approach 1- swap 10 and 18\n",
    "#my_list = [12,10,3,45,18,20]\n",
    "\n",
    "# tem = my_list[1]\n",
    "# my_list[1]= my_list[4]\n",
    "# my_list[4]=tem\n",
    "# print ('list after swapping',my_list) \n",
    "\n",
    "#approach 2\n",
    "# my_list[1],my_list[4]=my_list[4],my_list[1]\n",
    "# print ('list after swapping',my_list)\n",
    "\n",
    "#approach 3\n",
    "# get = my_list[1],my_list[4]\n",
    "# my_list[4],my_list[1]=get\n",
    "# print ('list after swapping',my_list)\n"
   ]
  },
  {
   "cell_type": "code",
   "execution_count": 9,
   "id": "e16144d2",
   "metadata": {},
   "outputs": [
    {
     "name": "stdout",
     "output_type": "stream",
     "text": [
      "10\n",
      "20\n",
      "list after swapping [12, 20, 3, 45, 10, 18]\n"
     ]
    }
   ],
   "source": [
    "#approach 4\n",
    "my_list = [12,10,3,45,18,20]\n",
    "first = my_list.pop(1)\n",
    "last = my_list.pop(4)\n",
    "print(first)\n",
    "print(last)\n",
    "my_list.insert(1,last)\n",
    "my_list.insert(4,first)\n",
    "print ('list after swapping',my_list)"
   ]
  },
  {
   "cell_type": "code",
   "execution_count": 24,
   "id": "df3472b6",
   "metadata": {},
   "outputs": [
    {
     "name": "stdout",
     "output_type": "stream",
     "text": [
      "the length of the string is 11\n"
     ]
    }
   ],
   "source": [
    "#finding the lenth of the string\n",
    "my_list = 'vidhyashree'\n",
    "count = 0\n",
    "\n",
    "for i in my_list:\n",
    "    count=count+1\n",
    "    if len(my_list) == count:\n",
    "        print('the length of the string is',count)"
   ]
  },
  {
   "cell_type": "code",
   "execution_count": 18,
   "id": "c59c4ffc",
   "metadata": {},
   "outputs": [
    {
     "name": "stdout",
     "output_type": "stream",
     "text": [
      "v\n",
      "s\n",
      "v\n",
      "s\n",
      "v\n",
      "s\n",
      "v\n",
      "s\n"
     ]
    }
   ],
   "source": [
    "my_list = ['k','v','s','p','q','v','s','k','v','s','p','q','v','s']\n",
    "n = len(my_list)\n",
    "w1 = 'v'\n",
    "w2 = 's'\n",
    "for i in range (1, n):\n",
    "    if(my_list[i] == w1 or my_list[i] == w2):\n",
    "        print(my_list[i])"
   ]
  },
  {
   "cell_type": "code",
   "execution_count": 23,
   "id": "f5f7c281",
   "metadata": {},
   "outputs": [
    {
     "name": "stdout",
     "output_type": "stream",
     "text": [
      "[1, 2, 3, 4, 5, 6]\n"
     ]
    }
   ],
   "source": [
    "X = [1,2,3,4,5,6,1,2,3,4,5,6,1,2,3,4,5,6]\n",
    "n = len(X)\n",
    "Y = []\n",
    "for i in X:\n",
    "    if i not in Y:\n",
    "        Y.append(i)\n",
    "        if i== X[-1]:\n",
    "              print(Y)"
   ]
  },
  {
   "cell_type": "code",
   "execution_count": 1,
   "id": "42d6dae0",
   "metadata": {},
   "outputs": [
    {
     "name": "stdout",
     "output_type": "stream",
     "text": [
      "[1, 2, 3, 4, 5, 6, 8]\n"
     ]
    }
   ],
   "source": [
    "X = [1,2,2,3,3,4,4,5,5,6,1,8]\n",
    "Y = []\n",
    "\n",
    "def hello(X):\n",
    "    for i in X:\n",
    "        if i not in Y:\n",
    "            Y.append(i)\n",
    "            if i== X[-1]:\n",
    "                  print(Y)\n",
    "   \n",
    "        \n",
    "hello(X)        "
   ]
  },
  {
   "cell_type": "code",
   "execution_count": null,
   "id": "03d0f151",
   "metadata": {},
   "outputs": [],
   "source": [
    "# REMOVE Nth occurence from the list\n",
    "X = [1,2,2,2,3,4,4,5,5,6,1,8]\n",
    "num = 2\n",
    "count = 0\n",
    "N = 3\n",
    "n = len(X)\n",
    "\n",
    "for i in X:\n",
    "    \n",
    "#      if X[i] == num:\n",
    "#         count=count+1\n",
    "#         if count== N:\n",
    "#             del X[i]\n",
    "#             print(X)\n",
    "        \n",
    "    \n"
   ]
  },
  {
   "cell_type": "code",
   "execution_count": null,
   "id": "46188dff",
   "metadata": {},
   "outputs": [],
   "source": [
    "X = [1,2,2,2,3,4,4,5,5,6,1,8]\n",
    "ele = 8\n",
    "\n",
    "for i in X:\n",
    "      if X[i]== ele:\n",
    "        print('element found')\n",
    "        else:\n",
    "            print('element not found')\n"
   ]
  },
  {
   "cell_type": "code",
   "execution_count": null,
   "id": "c2c4fb80",
   "metadata": {},
   "outputs": [],
   "source": [
    "#assignment given by shivraj\n",
    "\n",
    "user_namea = 'Nshivraj'\n",
    "passworda = 'Viddu@DS'\n",
    "\n",
    "user_nameb = input('enter user name ')\n",
    "passwordb = input('enter password')\n",
    "\n",
    "if (user_nameb == user_namea and passwordb == passworda):\n",
    "     print('you are logged in succesfully')\n",
    "else:\n",
    "    print('the credentials are invalid')\n",
    "        "
   ]
  },
  {
   "cell_type": "code",
   "execution_count": 3,
   "id": "c9778089",
   "metadata": {},
   "outputs": [
    {
     "name": "stdout",
     "output_type": "stream",
     "text": [
      "enter a number2\n",
      "32\n"
     ]
    }
   ],
   "source": [
    "\n",
    "num = int(input('enter a number'))\n",
    "A = num**5\n",
    "print(A)\n"
   ]
  },
  {
   "cell_type": "code",
   "execution_count": null,
   "id": "3caa4304",
   "metadata": {},
   "outputs": [],
   "source": [
    "a = str(input(\"enter number\"))\n",
    "print(a)"
   ]
  },
  {
   "cell_type": "code",
   "execution_count": null,
   "id": "7e3145c4",
   "metadata": {},
   "outputs": [],
   "source": []
  },
  {
   "cell_type": "code",
   "execution_count": null,
   "id": "29ea178d",
   "metadata": {},
   "outputs": [],
   "source": []
  },
  {
   "cell_type": "code",
   "execution_count": null,
   "id": "99a926b7",
   "metadata": {},
   "outputs": [],
   "source": []
  },
  {
   "cell_type": "code",
   "execution_count": null,
   "id": "00cb06d0",
   "metadata": {},
   "outputs": [],
   "source": []
  },
  {
   "cell_type": "code",
   "execution_count": null,
   "id": "1fc4c79c",
   "metadata": {},
   "outputs": [],
   "source": []
  },
  {
   "cell_type": "code",
   "execution_count": null,
   "id": "3ecac3c4",
   "metadata": {},
   "outputs": [],
   "source": []
  },
  {
   "cell_type": "code",
   "execution_count": null,
   "id": "cc9e6165",
   "metadata": {},
   "outputs": [],
   "source": []
  }
 ],
 "metadata": {
  "kernelspec": {
   "display_name": "Python 3 (ipykernel)",
   "language": "python",
   "name": "python3"
  },
  "language_info": {
   "codemirror_mode": {
    "name": "ipython",
    "version": 3
   },
   "file_extension": ".py",
   "mimetype": "text/x-python",
   "name": "python",
   "nbconvert_exporter": "python",
   "pygments_lexer": "ipython3",
   "version": "3.9.13"
  }
 },
 "nbformat": 4,
 "nbformat_minor": 5
}
