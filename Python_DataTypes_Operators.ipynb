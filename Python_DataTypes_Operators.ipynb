{
 "cells": [
  {
   "cell_type": "code",
   "execution_count": null,
   "metadata": {},
   "outputs": [],
   "source": [
    "Python Data Types\n",
    "    1. Fundamental - Integers, Float, Complex, Boolean, None, Strings\n",
    "    2. Derived - List, Tuple, Set, Frozenset, Dictionary, range\n",
    "    "
   ]
  },
  {
   "cell_type": "code",
   "execution_count": 3,
   "metadata": {
    "ExecuteTime": {
     "end_time": "2021-05-07T14:37:45.974527Z",
     "start_time": "2021-05-07T14:37:45.968191Z"
    }
   },
   "outputs": [
    {
     "name": "stdout",
     "output_type": "stream",
     "text": [
      "<class 'int'>\n",
      "10\n",
      "4436442048\n"
     ]
    }
   ],
   "source": [
    "# Integers\n",
    "# Any real number without a decimal point is called integer\n",
    "# e.g. 10, -10, 0\n",
    "\n",
    "# a = 10\n",
    "# print(type(a))\n",
    "# print(a)\n",
    "# print(id(a))\n",
    "\n",
    "# Operations\n",
    "    Arithmetic - +, -, *, /(Float Division), //(Floor Division), %(Modulo), **(Exponent)\n",
    "    Comparison - <, <=, >, >=\n",
    "    Equality Operator - ==, !=\n",
    "    Logical Operator - and, or, not\n",
    "    Bitwise Operators - &, |, ^, ~, <<, >>\n",
    "    Membership - in, not in\n",
    "    Identity - is, is not\n",
    "    Assignment - =\n",
    "    Compound Assignment - +=, -=, *=, /=, //=, %=, **=, &=,|=, ^=, ~=, <<=, >>=\n",
    "    Ternary Operator - expr1 if cond else expr2\n",
    "    \n",
    "\n"
   ]
  },
  {
   "cell_type": "code",
   "execution_count": 8,
   "metadata": {
    "ExecuteTime": {
     "end_time": "2021-05-07T14:43:57.310459Z",
     "start_time": "2021-05-07T14:43:57.302252Z"
    }
   },
   "outputs": [
    {
     "name": "stdout",
     "output_type": "stream",
     "text": [
      "3.3333333333333335\n",
      "3\n"
     ]
    }
   ],
   "source": [
    "# Arithmetic - +, -, *, /(Float Division), //(Floor Division), %(Modulo), **(Exponent)\n",
    "\n",
    "# print(10+20)\n",
    "# print(100-20)\n",
    "# print(10*20)\n",
    "# print(10 ** 3)   # 10 raised to the power 3\n",
    "# print(10 % 3)      # % operator gives the remainder after division\n",
    "\n",
    "# / - Float Division - Returns Float values after division\n",
    "# print(10/3)\n",
    "\n",
    "# // - Floor Division - Returns Floor values after division\n",
    "# print(10//3)\n"
   ]
  },
  {
   "cell_type": "code",
   "execution_count": 18,
   "metadata": {
    "ExecuteTime": {
     "end_time": "2021-05-07T14:53:28.881581Z",
     "start_time": "2021-05-07T14:53:28.872778Z"
    }
   },
   "outputs": [
    {
     "name": "stdout",
     "output_type": "stream",
     "text": [
      "True\n"
     ]
    }
   ],
   "source": [
    "# Comparison - <, <=, >, >=\n",
    "# These operators returns boolean values - True or False\n",
    "# These operators does not work between instances of different type except int and float\n",
    "# These operators does not work with instances of complex type\n",
    "\n",
    "# print(10<20)\n",
    "# print(10<10.20)\n",
    "\n",
    "# print(10 < 10+20j)         # TypeError: '<' not supported between instances of 'int' and 'complex'\n",
    "# print((10+20j) < (5+5j))   # TypeError: '<' not supported between instances of 'complex' and 'complex'\n",
    "\n",
    "# print('A' <= 65)           # TypeError: '<=' not supported between instances of 'str' and 'int'\n",
    "\n",
    "# print('ABC' < 'abc')\n",
    "# print('abc' < 'ABC') # compares the ascii value\n",
    "# print('ABc' < 'ABC')\n",
    "# print('AGK' < 'BFL')\n",
    "\n"
   ]
  },
  {
   "cell_type": "code",
   "execution_count": 29,
   "metadata": {
    "ExecuteTime": {
     "end_time": "2021-05-07T15:03:03.735539Z",
     "start_time": "2021-05-07T15:03:03.726838Z"
    }
   },
   "outputs": [
    {
     "name": "stdout",
     "output_type": "stream",
     "text": [
      "True\n"
     ]
    }
   ],
   "source": [
    "# Equality Operator - ==, !=\n",
    "# These operators also returns Boolean Value - \n",
    "# It compares whether both the operands are having same content\n",
    "# This operator works on any data types\n",
    "\n",
    "# print(10 == 10)\n",
    "# print(10 != 10)\n",
    "\n",
    "# print(10 == 20)\n",
    "# print(10 != 20)\n",
    "\n",
    "# print('A' == 65)\n",
    "# print(ord('A') == 65)\n",
    "\n",
    "# ord('A')  # returns ASCII value\n",
    "\n",
    "# print(65 == int('65'))\n",
    "\n"
   ]
  },
  {
   "cell_type": "code",
   "execution_count": 30,
   "metadata": {
    "ExecuteTime": {
     "end_time": "2021-05-07T15:04:49.402049Z",
     "start_time": "2021-05-07T15:04:49.392377Z"
    }
   },
   "outputs": [
    {
     "data": {
      "text/plain": [
       "True"
      ]
     },
     "execution_count": 30,
     "metadata": {},
     "output_type": "execute_result"
    }
   ],
   "source": [
    "# ord('A')\n",
    "\n",
    "# Combination of operator\n",
    "\n",
    "(10**3 < 100*100) == (10==10)\n",
    "\n",
    "(10 * 20) +100\n",
    "(10+20) * 100"
   ]
  },
  {
   "cell_type": "code",
   "execution_count": 35,
   "metadata": {
    "ExecuteTime": {
     "end_time": "2021-05-07T15:19:48.274290Z",
     "start_time": "2021-05-07T15:19:46.241513Z"
    }
   },
   "outputs": [
    {
     "name": "stdout",
     "output_type": "stream",
     "text": [
      "Enter an year: 1967\n",
      "Year is not leap year\n"
     ]
    }
   ],
   "source": [
    "# Logical Operator - and, or, not\n",
    "# They works with logic - Logics can either be True or False\n",
    "\n",
    "# and Truth Table - False\n",
    "# True and True = True\n",
    "# True and False = False\n",
    "# False and True = False\n",
    "# False and False = False\n",
    "\n",
    "# or Truth Table - True\n",
    "# True or True = True\n",
    "# True or False = True\n",
    "# False or True = True\n",
    "# False or False = False\n",
    "\n",
    "# not Truth Table\n",
    "# not True = False\n",
    "# not False = True\n",
    "\n",
    "# Year%4 == 0 , year%100 == 0, year%400 == 0 -> Leap Year if all conditions are True -1600\n",
    "\n",
    "# 1800\n",
    "# 2020\n",
    "\n",
    "year = int(input('Enter an year: '))\n",
    "if ((year%400 == 0) or ((year%4 == 0) and (year%100 != 0))):\n",
    "    print('Year is leap year')\n",
    "else:\n",
    "    print('Year is not leap year')\n",
    "\n",
    "# False or (True and True) => False or True => True => 2020\n",
    "# False or (True and False) => False or False => False => 1800\n",
    "# True or (True and False) => True or False => True => 1600\n",
    "\n"
   ]
  },
  {
   "cell_type": "code",
   "execution_count": 56,
   "metadata": {
    "ExecuteTime": {
     "end_time": "2021-05-07T15:34:55.813885Z",
     "start_time": "2021-05-07T15:34:55.802309Z"
    }
   },
   "outputs": [
    {
     "name": "stdout",
     "output_type": "stream",
     "text": [
      "True\n",
      "False\n"
     ]
    }
   ],
   "source": [
    "# Membership - in, not in\n",
    "# Works only with Iterable type\n",
    "# Returns Boolean value\n",
    "\n",
    "\n",
    "# Iterable type is an object which has __iter__ method\n",
    "# print(dir(int))\n",
    "# print(dir(float))\n",
    "# print(dir(complex))\n",
    "\n",
    "# print(dir(str))\n",
    "# print(dir(list))\n",
    "# print(dir(tuple))\n",
    "# print(dir(dict))\n",
    "\n",
    "# print('P' in 'Python')\n",
    "# print('P' not in 'Python')\n",
    "# print('on' in 'Python')\n",
    "# print('on' not in 'Python')\n",
    "# print('Pn' in 'Python')\n",
    "\n",
    "# print(10 in [10,20,30,40])\n",
    "# print(10 not in [10,20,30,40])\n",
    "# print(100 in [10,20,30,40])\n",
    "# print(100 not in [10,20,30,40])\n",
    "\n",
    "# print(1 in {1:100, 2:200, 3:300, 4:400})   # key:value => item \n",
    "# print(1 not in {1:100, 2:200, 3:300, 4:400})\n",
    "# print(100 not in {1:100, 2:200, 3:300, 4:400})\n",
    "# print(100  in {1:100, 2:200, 3:300, 4:400})\n",
    "\n",
    "\n"
   ]
  },
  {
   "cell_type": "code",
   "execution_count": 63,
   "metadata": {
    "ExecuteTime": {
     "end_time": "2021-05-07T15:38:13.020901Z",
     "start_time": "2021-05-07T15:38:13.012057Z"
    }
   },
   "outputs": [
    {
     "name": "stdout",
     "output_type": "stream",
     "text": [
      "False\n",
      "4633149264\n",
      "4633149232\n"
     ]
    }
   ],
   "source": [
    "# Identity - is, is not\n",
    "# These operators also returns Boolean values\n",
    "# They compare the memory address\n",
    "\n",
    "# a = 10\n",
    "# b = 10\n",
    "# print(id(a))\n",
    "# print(id(b))\n",
    "# print(a is b)\n",
    "\n",
    "# a = 'Python'\n",
    "# b = 'Python'\n",
    "# print(id(a))\n",
    "# print(id(b))\n",
    "# print(a is b)\n",
    "\n",
    "# a = 1000\n",
    "# b = 1000\n",
    "# print(a is b)\n",
    "# print(id(a))\n",
    "# print(id(b))\n",
    "\n",
    "# object reusability in Python\n",
    "\n"
   ]
  },
  {
   "cell_type": "code",
   "execution_count": 79,
   "metadata": {
    "ExecuteTime": {
     "end_time": "2021-05-07T15:49:57.623053Z",
     "start_time": "2021-05-07T15:49:57.616500Z"
    }
   },
   "outputs": [
    {
     "name": "stdout",
     "output_type": "stream",
     "text": [
      "2\n",
      "2\n"
     ]
    }
   ],
   "source": [
    "# Bitwise Operators - &, |, ^, ~, <<, >> - 0&1\n",
    "# Because these operators works only with the bits or binary values\n",
    "# These operators works only with integers\n",
    "\n",
    "# & Truth Table\n",
    "# 1 & 1 = 1\n",
    "# 0 & 1 = 0\n",
    "# 1 & 0 = 0\n",
    "# 0 & 0 = 0\n",
    "\n",
    "# | Truth Table\n",
    "# 1 & 1 = 1\n",
    "# 0 & 1 = 1\n",
    "# 1 & 0 = 1\n",
    "# 0 & 0 = 0\n",
    "\n",
    "# ^ Truth Table\n",
    "# 1 & 1 = 0\n",
    "# 0 & 1 = 1\n",
    "# 1 & 0 = 1\n",
    "# 0 & 0 = 0\n",
    "\n",
    "# print(37 & 162)\n",
    "# print(37 | 162)\n",
    "# print(37 ^ 162)\n",
    "\n",
    "# print(bin(162))\n",
    "\n",
    "# 37  = 00100101\n",
    "# 162 = 10100010\n",
    "# ==============\n",
    "# &   = 00100000\n",
    "# |   = 10100111\n",
    "\n",
    "\n",
    "# print(0b10100111)\n",
    "\n",
    "\n",
    "\n",
    "# ~ => Bitwise Negation\n",
    "# ~num = -(num+1)\n",
    "\n",
    "# print(~10)\n",
    "# print(~1)\n",
    "# print(~-9)\n",
    "\n",
    "# << - Left shift operation\n",
    "# (num << by how many bits)\n",
    "# print(65 << 5)\n",
    "\n",
    "# print(65 * (2 ** 5))\n",
    "\n",
    "# >> - right shift operation\n",
    "# (num >> by how many bits)\n",
    "print(65 >> 5)\n",
    "\n",
    "print(65 // (2 ** 5))"
   ]
  },
  {
   "cell_type": "code",
   "execution_count": 84,
   "metadata": {
    "ExecuteTime": {
     "end_time": "2021-05-07T15:53:10.188712Z",
     "start_time": "2021-05-07T15:53:10.181563Z"
    }
   },
   "outputs": [
    {
     "name": "stdout",
     "output_type": "stream",
     "text": [
      "0\n"
     ]
    }
   ],
   "source": [
    "# Assignment - =\n",
    "# Compound Assignment - +=, -=, *=, /=, //=, %=, **=, &=,|=, ^=, ~=, <<=, >>=\n",
    "\n",
    "# Assignment\n",
    "# a = 10\n",
    "# b = 'Python'\n",
    "\n",
    "# Compound assignment\n",
    "\n",
    "a = 10\n",
    "# a += 2    # a = a+2\n",
    "# a *= 20   # a = a*2\n",
    "# print(a)\n",
    "\n",
    "# a &= 20   # a = a&20\n",
    "# print(a)\n"
   ]
  },
  {
   "cell_type": "code",
   "execution_count": 86,
   "metadata": {
    "ExecuteTime": {
     "end_time": "2021-05-07T15:54:59.869903Z",
     "start_time": "2021-05-07T15:54:59.863531Z"
    }
   },
   "outputs": [
    {
     "name": "stdout",
     "output_type": "stream",
     "text": [
      "Odd\n"
     ]
    }
   ],
   "source": [
    "# Ternary Operator\n",
    "num = 13\n",
    "print('Even' if num%2 == 0 else 'Odd')"
   ]
  },
  {
   "cell_type": "code",
   "execution_count": null,
   "metadata": {},
   "outputs": [],
   "source": [
    "# operator Precedence\n",
    "Operators\tMeaning\n",
    "()      \tParentheses\n",
    "**      \tExponent\n",
    "+x, -x, ~x\tUnary plus, Unary minus, Bitwise NOT\n",
    "*, /, //, %\tMultiplication, Division, Floor division, Modulus\n",
    "+, -    \tAddition, Subtraction\n",
    "<<, >>  \tBitwise shift operators\n",
    "&       \tBitwise AND\n",
    "^       \tBitwise XOR\n",
    "|       \tBitwise OR\n",
    "==, !=, >, >=, <, <=, is, is not, in, not in\tComparisons, Identity, Membership operators\n",
    "not     \tLogical NOT\n",
    "and     \tLogical AND\n",
    "or      \tLogical OR"
   ]
  },
  {
   "cell_type": "code",
   "execution_count": null,
   "metadata": {},
   "outputs": [],
   "source": [
    "# Float\n",
    "    Any numbers with decimal point\n",
    "    10.20,0.0001, -10.20\n",
    "    # Only bitwise operator does not work with Float\n",
    "    "
   ]
  },
  {
   "cell_type": "code",
   "execution_count": null,
   "metadata": {},
   "outputs": [],
   "source": [
    "# Complex\n",
    "# Any number in the format a+bj\n",
    "# where a is real part\n",
    "# b is imaginary part\n",
    "\n",
    "# (10 + 20j)\n",
    "# 10 is real\n",
    "# 20 is imaginary"
   ]
  },
  {
   "cell_type": "code",
   "execution_count": 91,
   "metadata": {
    "ExecuteTime": {
     "end_time": "2021-05-07T16:01:17.856716Z",
     "start_time": "2021-05-07T16:01:17.841467Z"
    }
   },
   "outputs": [
    {
     "data": {
      "text/plain": [
       "True"
      ]
     },
     "execution_count": 91,
     "metadata": {},
     "output_type": "execute_result"
    }
   ],
   "source": [
    "# Boolean - True, False\n",
    "\n",
    "# True == 1\n",
    "# False == 0"
   ]
  },
  {
   "cell_type": "code",
   "execution_count": 96,
   "metadata": {
    "ExecuteTime": {
     "end_time": "2021-05-07T16:04:06.164308Z",
     "start_time": "2021-05-07T16:04:06.157449Z"
    }
   },
   "outputs": [
    {
     "name": "stdout",
     "output_type": "stream",
     "text": [
      "This is 'Python' \"Java\" Class\n"
     ]
    }
   ],
   "source": [
    "# String - Any value kept inside '...', \"...\",'''...''',\"\"\"...\"\"\"\n",
    "\n",
    "# a = \"This is Python's class\"\n",
    "# print(a)\n",
    "\n",
    "# a = 'This is \"Python\" class'\n",
    "# print(a)\n",
    "\n",
    "a = '''This is 'Python' \"Java\" Class'''\n",
    "print(a)"
   ]
  },
  {
   "cell_type": "code",
   "execution_count": null,
   "metadata": {},
   "outputs": [],
   "source": [
    "# Derived Data Types\n",
    "\n",
    "# list - [10,10.20, 10+20j, 'Python']\n",
    "# Tuple - (10,10.20, 10+20j, 'Python')\n",
    "# set - {10,10.20, 10+20j, 'Python'}\n",
    "# Dictionary - {1:100, 10.20:10+20j, 'a':'Python', True:None}\n",
    "# range -\n",
    "\n"
   ]
  },
  {
   "cell_type": "code",
   "execution_count": 97,
   "metadata": {
    "ExecuteTime": {
     "end_time": "2021-05-07T16:06:57.790094Z",
     "start_time": "2021-05-07T16:06:57.781729Z"
    }
   },
   "outputs": [
    {
     "data": {
      "text/plain": [
       "[1, 2, 3, 4, 5, 6, 7, 8, 9]"
      ]
     },
     "execution_count": 97,
     "metadata": {},
     "output_type": "execute_result"
    }
   ],
   "source": [
    "list(range(1, 10))"
   ]
  },
  {
   "cell_type": "code",
   "execution_count": null,
   "metadata": {},
   "outputs": [],
   "source": []
  },
  {
   "cell_type": "code",
   "execution_count": null,
   "metadata": {},
   "outputs": [],
   "source": []
  },
  {
   "cell_type": "code",
   "execution_count": null,
   "metadata": {},
   "outputs": [],
   "source": []
  },
  {
   "cell_type": "code",
   "execution_count": null,
   "metadata": {},
   "outputs": [],
   "source": []
  },
  {
   "cell_type": "code",
   "execution_count": null,
   "metadata": {},
   "outputs": [],
   "source": []
  },
  {
   "cell_type": "code",
   "execution_count": null,
   "metadata": {},
   "outputs": [],
   "source": []
  },
  {
   "cell_type": "code",
   "execution_count": null,
   "metadata": {},
   "outputs": [],
   "source": []
  },
  {
   "cell_type": "code",
   "execution_count": null,
   "metadata": {},
   "outputs": [],
   "source": []
  },
  {
   "cell_type": "code",
   "execution_count": null,
   "metadata": {},
   "outputs": [],
   "source": []
  },
  {
   "cell_type": "code",
   "execution_count": null,
   "metadata": {},
   "outputs": [],
   "source": []
  },
  {
   "cell_type": "code",
   "execution_count": null,
   "metadata": {},
   "outputs": [],
   "source": []
  },
  {
   "cell_type": "code",
   "execution_count": null,
   "metadata": {},
   "outputs": [],
   "source": []
  },
  {
   "cell_type": "code",
   "execution_count": null,
   "metadata": {},
   "outputs": [],
   "source": []
  },
  {
   "cell_type": "code",
   "execution_count": null,
   "metadata": {},
   "outputs": [],
   "source": []
  },
  {
   "cell_type": "code",
   "execution_count": null,
   "metadata": {},
   "outputs": [],
   "source": []
  },
  {
   "cell_type": "code",
   "execution_count": null,
   "metadata": {},
   "outputs": [],
   "source": []
  },
  {
   "cell_type": "code",
   "execution_count": null,
   "metadata": {},
   "outputs": [],
   "source": []
  },
  {
   "cell_type": "code",
   "execution_count": null,
   "metadata": {},
   "outputs": [],
   "source": []
  },
  {
   "cell_type": "code",
   "execution_count": null,
   "metadata": {},
   "outputs": [],
   "source": []
  },
  {
   "cell_type": "code",
   "execution_count": null,
   "metadata": {},
   "outputs": [],
   "source": []
  },
  {
   "cell_type": "code",
   "execution_count": null,
   "metadata": {},
   "outputs": [],
   "source": []
  },
  {
   "cell_type": "code",
   "execution_count": null,
   "metadata": {},
   "outputs": [],
   "source": []
  },
  {
   "cell_type": "code",
   "execution_count": null,
   "metadata": {},
   "outputs": [],
   "source": []
  },
  {
   "cell_type": "code",
   "execution_count": null,
   "metadata": {},
   "outputs": [],
   "source": []
  },
  {
   "cell_type": "code",
   "execution_count": null,
   "metadata": {},
   "outputs": [],
   "source": []
  },
  {
   "cell_type": "code",
   "execution_count": null,
   "metadata": {},
   "outputs": [],
   "source": []
  },
  {
   "cell_type": "code",
   "execution_count": null,
   "metadata": {},
   "outputs": [],
   "source": []
  },
  {
   "cell_type": "code",
   "execution_count": null,
   "metadata": {},
   "outputs": [],
   "source": []
  },
  {
   "cell_type": "code",
   "execution_count": null,
   "metadata": {},
   "outputs": [],
   "source": []
  },
  {
   "cell_type": "code",
   "execution_count": null,
   "metadata": {},
   "outputs": [],
   "source": []
  },
  {
   "cell_type": "code",
   "execution_count": null,
   "metadata": {},
   "outputs": [],
   "source": []
  },
  {
   "cell_type": "code",
   "execution_count": null,
   "metadata": {},
   "outputs": [],
   "source": []
  },
  {
   "cell_type": "code",
   "execution_count": null,
   "metadata": {},
   "outputs": [],
   "source": []
  },
  {
   "cell_type": "code",
   "execution_count": null,
   "metadata": {},
   "outputs": [],
   "source": []
  },
  {
   "cell_type": "code",
   "execution_count": null,
   "metadata": {},
   "outputs": [],
   "source": []
  },
  {
   "cell_type": "code",
   "execution_count": null,
   "metadata": {},
   "outputs": [],
   "source": []
  },
  {
   "cell_type": "code",
   "execution_count": null,
   "metadata": {},
   "outputs": [],
   "source": []
  },
  {
   "cell_type": "code",
   "execution_count": null,
   "metadata": {},
   "outputs": [],
   "source": []
  },
  {
   "cell_type": "code",
   "execution_count": null,
   "metadata": {},
   "outputs": [],
   "source": []
  },
  {
   "cell_type": "code",
   "execution_count": null,
   "metadata": {},
   "outputs": [],
   "source": []
  },
  {
   "cell_type": "code",
   "execution_count": null,
   "metadata": {},
   "outputs": [],
   "source": []
  },
  {
   "cell_type": "code",
   "execution_count": null,
   "metadata": {},
   "outputs": [],
   "source": []
  },
  {
   "cell_type": "code",
   "execution_count": null,
   "metadata": {},
   "outputs": [],
   "source": []
  },
  {
   "cell_type": "code",
   "execution_count": null,
   "metadata": {},
   "outputs": [],
   "source": []
  },
  {
   "cell_type": "code",
   "execution_count": null,
   "metadata": {},
   "outputs": [],
   "source": []
  },
  {
   "cell_type": "code",
   "execution_count": null,
   "metadata": {},
   "outputs": [],
   "source": []
  },
  {
   "cell_type": "code",
   "execution_count": null,
   "metadata": {},
   "outputs": [],
   "source": []
  },
  {
   "cell_type": "code",
   "execution_count": null,
   "metadata": {},
   "outputs": [],
   "source": []
  },
  {
   "cell_type": "code",
   "execution_count": null,
   "metadata": {},
   "outputs": [],
   "source": []
  }
 ],
 "metadata": {
  "kernelspec": {
   "display_name": "Python 3 (ipykernel)",
   "language": "python",
   "name": "python3"
  },
  "language_info": {
   "codemirror_mode": {
    "name": "ipython",
    "version": 3
   },
   "file_extension": ".py",
   "mimetype": "text/x-python",
   "name": "python",
   "nbconvert_exporter": "python",
   "pygments_lexer": "ipython3",
   "version": "3.9.13"
  },
  "latex_envs": {
   "LaTeX_envs_menu_present": true,
   "autoclose": false,
   "autocomplete": true,
   "bibliofile": "biblio.bib",
   "cite_by": "apalike",
   "current_citInitial": 1,
   "eqLabelWithNumbers": true,
   "eqNumInitial": 1,
   "hotkeys": {
    "equation": "Ctrl-E",
    "itemize": "Ctrl-I"
   },
   "labels_anchors": false,
   "latex_user_defs": false,
   "report_style_numbering": false,
   "user_envs_cfg": false
  },
  "varInspector": {
   "cols": {
    "lenName": 16,
    "lenType": 16,
    "lenVar": 40
   },
   "kernels_config": {
    "python": {
     "delete_cmd_postfix": "",
     "delete_cmd_prefix": "del ",
     "library": "var_list.py",
     "varRefreshCmd": "print(var_dic_list())"
    },
    "r": {
     "delete_cmd_postfix": ") ",
     "delete_cmd_prefix": "rm(",
     "library": "var_list.r",
     "varRefreshCmd": "cat(var_dic_list()) "
    }
   },
   "types_to_exclude": [
    "module",
    "function",
    "builtin_function_or_method",
    "instance",
    "_Feature"
   ],
   "window_display": false
  }
 },
 "nbformat": 4,
 "nbformat_minor": 2
}
